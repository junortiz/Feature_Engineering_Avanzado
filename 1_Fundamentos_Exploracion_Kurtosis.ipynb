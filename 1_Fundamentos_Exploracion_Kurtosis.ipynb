{
 "cells": [
  {
   "cell_type": "markdown",
   "metadata": {},
   "source": [
    "### 📦 1. Importación de librerías necesarias"
   ]
  },
  {
   "cell_type": "code",
   "execution_count": 1,
   "metadata": {},
   "outputs": [
    {
     "data": {
      "text/html": [
       "<div>\n",
       "<style scoped>\n",
       "    .dataframe tbody tr th:only-of-type {\n",
       "        vertical-align: middle;\n",
       "    }\n",
       "\n",
       "    .dataframe tbody tr th {\n",
       "        vertical-align: top;\n",
       "    }\n",
       "\n",
       "    .dataframe thead th {\n",
       "        text-align: right;\n",
       "    }\n",
       "</style>\n",
       "<table border=\"1\" class=\"dataframe\">\n",
       "  <thead>\n",
       "    <tr style=\"text-align: right;\">\n",
       "      <th></th>\n",
       "      <th>#</th>\n",
       "      <th>Product Description</th>\n",
       "      <th>Customer Name</th>\n",
       "      <th>Column1</th>\n",
       "      <th>Year</th>\n",
       "      <th>Prd.</th>\n",
       "      <th>Quantity</th>\n",
       "      <th>Revenue</th>\n",
       "      <th>Count</th>\n",
       "      <th>Column2</th>\n",
       "      <th>Count3</th>\n",
       "      <th>Costs</th>\n",
       "      <th>Margin</th>\n",
       "      <th>Column4</th>\n",
       "    </tr>\n",
       "  </thead>\n",
       "  <tbody>\n",
       "    <tr>\n",
       "      <th>0</th>\n",
       "      <td>1</td>\n",
       "      <td>Lobster - Baby, Boiled</td>\n",
       "      <td>Stanton, Predovic and Larson</td>\n",
       "      <td>NaN</td>\n",
       "      <td>2019.0</td>\n",
       "      <td>2.0</td>\n",
       "      <td>1.0</td>\n",
       "      <td>16.00</td>\n",
       "      <td>1.0</td>\n",
       "      <td>0.0</td>\n",
       "      <td>12.00</td>\n",
       "      <td>4.00</td>\n",
       "      <td>NaN</td>\n",
       "      <td>25.0</td>\n",
       "    </tr>\n",
       "    <tr>\n",
       "      <th>1</th>\n",
       "      <td>2</td>\n",
       "      <td>Tea - Herbal Orange Spice</td>\n",
       "      <td>Stanton, Predovic and Larson</td>\n",
       "      <td>NaN</td>\n",
       "      <td>NaN</td>\n",
       "      <td>NaN</td>\n",
       "      <td>NaN</td>\n",
       "      <td>NaN</td>\n",
       "      <td>NaN</td>\n",
       "      <td>NaN</td>\n",
       "      <td>NaN</td>\n",
       "      <td>NaN</td>\n",
       "      <td>NaN</td>\n",
       "      <td>NaN</td>\n",
       "    </tr>\n",
       "    <tr>\n",
       "      <th>2</th>\n",
       "      <td>3</td>\n",
       "      <td>Cookies - Assorted</td>\n",
       "      <td>Stanton, Predovic and Larson</td>\n",
       "      <td>NaN</td>\n",
       "      <td>NaN</td>\n",
       "      <td>NaN</td>\n",
       "      <td>NaN</td>\n",
       "      <td>NaN</td>\n",
       "      <td>NaN</td>\n",
       "      <td>NaN</td>\n",
       "      <td>NaN</td>\n",
       "      <td>NaN</td>\n",
       "      <td>NaN</td>\n",
       "      <td>NaN</td>\n",
       "    </tr>\n",
       "    <tr>\n",
       "      <th>3</th>\n",
       "      <td>4</td>\n",
       "      <td>Cookies - Assorted</td>\n",
       "      <td>Stanton, Predovic and Larson</td>\n",
       "      <td>NaN</td>\n",
       "      <td>2019.0</td>\n",
       "      <td>5.0</td>\n",
       "      <td>0.6</td>\n",
       "      <td>0.00</td>\n",
       "      <td>1.0</td>\n",
       "      <td>0.0</td>\n",
       "      <td>7.29</td>\n",
       "      <td>-7.29</td>\n",
       "      <td>NaN</td>\n",
       "      <td>0.0</td>\n",
       "    </tr>\n",
       "    <tr>\n",
       "      <th>4</th>\n",
       "      <td>5</td>\n",
       "      <td>Juice - V8 Splash</td>\n",
       "      <td>Stanton, Predovic and Larson</td>\n",
       "      <td>NaN</td>\n",
       "      <td>NaN</td>\n",
       "      <td>NaN</td>\n",
       "      <td>NaN</td>\n",
       "      <td>NaN</td>\n",
       "      <td>NaN</td>\n",
       "      <td>NaN</td>\n",
       "      <td>NaN</td>\n",
       "      <td>NaN</td>\n",
       "      <td>NaN</td>\n",
       "      <td>NaN</td>\n",
       "    </tr>\n",
       "    <tr>\n",
       "      <th>...</th>\n",
       "      <td>...</td>\n",
       "      <td>...</td>\n",
       "      <td>...</td>\n",
       "      <td>...</td>\n",
       "      <td>...</td>\n",
       "      <td>...</td>\n",
       "      <td>...</td>\n",
       "      <td>...</td>\n",
       "      <td>...</td>\n",
       "      <td>...</td>\n",
       "      <td>...</td>\n",
       "      <td>...</td>\n",
       "      <td>...</td>\n",
       "      <td>...</td>\n",
       "    </tr>\n",
       "    <tr>\n",
       "      <th>7075</th>\n",
       "      <td>7558</td>\n",
       "      <td>White (Bianco)Truffle Oil 250 ml</td>\n",
       "      <td>Pouros, Ziemann and Braun</td>\n",
       "      <td>NaN</td>\n",
       "      <td>NaN</td>\n",
       "      <td>NaN</td>\n",
       "      <td>NaN</td>\n",
       "      <td>NaN</td>\n",
       "      <td>NaN</td>\n",
       "      <td>NaN</td>\n",
       "      <td>NaN</td>\n",
       "      <td>NaN</td>\n",
       "      <td>NaN</td>\n",
       "      <td>NaN</td>\n",
       "    </tr>\n",
       "    <tr>\n",
       "      <th>7076</th>\n",
       "      <td>7559</td>\n",
       "      <td>NaN</td>\n",
       "      <td>NaN</td>\n",
       "      <td>Customer Total:</td>\n",
       "      <td>NaN</td>\n",
       "      <td>NaN</td>\n",
       "      <td>NaN</td>\n",
       "      <td>427.50</td>\n",
       "      <td>NaN</td>\n",
       "      <td>NaN</td>\n",
       "      <td>268.35</td>\n",
       "      <td>NaN</td>\n",
       "      <td>NaN</td>\n",
       "      <td>NaN</td>\n",
       "    </tr>\n",
       "    <tr>\n",
       "      <th>7077</th>\n",
       "      <td>7560</td>\n",
       "      <td>Canada Dry</td>\n",
       "      <td>Jacobson, Raynor and Marvin</td>\n",
       "      <td>NaN</td>\n",
       "      <td>NaN</td>\n",
       "      <td>NaN</td>\n",
       "      <td>NaN</td>\n",
       "      <td>NaN</td>\n",
       "      <td>NaN</td>\n",
       "      <td>NaN</td>\n",
       "      <td>NaN</td>\n",
       "      <td>NaN</td>\n",
       "      <td>NaN</td>\n",
       "      <td>NaN</td>\n",
       "    </tr>\n",
       "    <tr>\n",
       "      <th>7078</th>\n",
       "      <td>7561</td>\n",
       "      <td>Canada Dry</td>\n",
       "      <td>Jacobson, Raynor and Marvin</td>\n",
       "      <td>NaN</td>\n",
       "      <td>NaN</td>\n",
       "      <td>NaN</td>\n",
       "      <td>NaN</td>\n",
       "      <td>NaN</td>\n",
       "      <td>NaN</td>\n",
       "      <td>NaN</td>\n",
       "      <td>NaN</td>\n",
       "      <td>NaN</td>\n",
       "      <td>NaN</td>\n",
       "      <td>NaN</td>\n",
       "    </tr>\n",
       "    <tr>\n",
       "      <th>7079</th>\n",
       "      <td>7562</td>\n",
       "      <td>NaN</td>\n",
       "      <td>NaN</td>\n",
       "      <td>Total Sales:</td>\n",
       "      <td>NaN</td>\n",
       "      <td>NaN</td>\n",
       "      <td>NaN</td>\n",
       "      <td>2678619.38</td>\n",
       "      <td>NaN</td>\n",
       "      <td>NaN</td>\n",
       "      <td>1200886.66</td>\n",
       "      <td>NaN</td>\n",
       "      <td>NaN</td>\n",
       "      <td>NaN</td>\n",
       "    </tr>\n",
       "  </tbody>\n",
       "</table>\n",
       "<p>7080 rows × 14 columns</p>\n",
       "</div>"
      ],
      "text/plain": [
       "         #               Product Description                 Customer Name  \\\n",
       "0        1            Lobster - Baby, Boiled  Stanton, Predovic and Larson   \n",
       "1        2         Tea - Herbal Orange Spice  Stanton, Predovic and Larson   \n",
       "2        3                Cookies - Assorted  Stanton, Predovic and Larson   \n",
       "3        4                Cookies - Assorted  Stanton, Predovic and Larson   \n",
       "4        5                 Juice - V8 Splash  Stanton, Predovic and Larson   \n",
       "...    ...                               ...                           ...   \n",
       "7075  7558  White (Bianco)Truffle Oil 250 ml     Pouros, Ziemann and Braun   \n",
       "7076  7559                               NaN                           NaN   \n",
       "7077  7560                        Canada Dry   Jacobson, Raynor and Marvin   \n",
       "7078  7561                        Canada Dry   Jacobson, Raynor and Marvin   \n",
       "7079  7562                               NaN                           NaN   \n",
       "\n",
       "              Column1    Year  Prd.  Quantity     Revenue  Count  Column2  \\\n",
       "0                 NaN  2019.0   2.0       1.0       16.00    1.0      0.0   \n",
       "1                 NaN     NaN   NaN       NaN         NaN    NaN      NaN   \n",
       "2                 NaN     NaN   NaN       NaN         NaN    NaN      NaN   \n",
       "3                 NaN  2019.0   5.0       0.6        0.00    1.0      0.0   \n",
       "4                 NaN     NaN   NaN       NaN         NaN    NaN      NaN   \n",
       "...               ...     ...   ...       ...         ...    ...      ...   \n",
       "7075              NaN     NaN   NaN       NaN         NaN    NaN      NaN   \n",
       "7076  Customer Total:     NaN   NaN       NaN      427.50    NaN      NaN   \n",
       "7077              NaN     NaN   NaN       NaN         NaN    NaN      NaN   \n",
       "7078              NaN     NaN   NaN       NaN         NaN    NaN      NaN   \n",
       "7079     Total Sales:     NaN   NaN       NaN  2678619.38    NaN      NaN   \n",
       "\n",
       "          Count3  Costs  Margin  Column4  \n",
       "0          12.00   4.00     NaN     25.0  \n",
       "1            NaN    NaN     NaN      NaN  \n",
       "2            NaN    NaN     NaN      NaN  \n",
       "3           7.29  -7.29     NaN      0.0  \n",
       "4            NaN    NaN     NaN      NaN  \n",
       "...          ...    ...     ...      ...  \n",
       "7075         NaN    NaN     NaN      NaN  \n",
       "7076      268.35    NaN     NaN      NaN  \n",
       "7077         NaN    NaN     NaN      NaN  \n",
       "7078         NaN    NaN     NaN      NaN  \n",
       "7079  1200886.66    NaN     NaN      NaN  \n",
       "\n",
       "[7080 rows x 14 columns]"
      ]
     },
     "execution_count": 1,
     "metadata": {},
     "output_type": "execute_result"
    }
   ],
   "source": [
    "import pandas as pd \n",
    "import numpy as np\n",
    "import seaborn as sns\n",
    "import matplotlib.pyplot as plt\n",
    "from scipy.stats import kurtosis, skew"
   ]
  },
  {
   "cell_type": "markdown",
   "metadata": {},
   "source": [
    "> 🔍 **¿Qué estamos haciendo aquí?**\n",
    "> Estamos importando las librerías más comunes para el análisis de datos.\n",
    ">\n",
    "> * `pandas` para manejar tablas (DataFrames)\n",
    "> * `numpy` para funciones matemáticas\n",
    "> * `seaborn` y `matplotlib` para visualizaciones\n",
    "> * `scipy.stats` para estadística más avanzada (asimetría y curtosis)"
   ]
  },
  {
   "cell_type": "markdown",
   "metadata": {},
   "source": [
    "### 📂 2. Cargando los datos desde un archivo de Excel\n"
   ]
  },
  {
   "cell_type": "code",
   "execution_count": null,
   "metadata": {},
   "outputs": [],
   "source": [
    "df = pd.read_excel(\"Dia1_Finanzas_Datos.xlsx\")\n",
    "df"
   ]
  },
  {
   "cell_type": "markdown",
   "metadata": {},
   "source": [
    "> 📄 Cargamos el archivo Excel con nuestros datos financieros.\n",
    "> Mostramos la tabla (`df`) para verificar que se cargó correctamente.\n"
   ]
  },
  {
   "cell_type": "markdown",
   "metadata": {},
   "source": [
    "### 🚫 3. Limpieza de datos: eliminando valores nulos"
   ]
  },
  {
   "cell_type": "code",
   "execution_count": 2,
   "metadata": {},
   "outputs": [
    {
     "data": {
      "text/html": [
       "<div>\n",
       "<style scoped>\n",
       "    .dataframe tbody tr th:only-of-type {\n",
       "        vertical-align: middle;\n",
       "    }\n",
       "\n",
       "    .dataframe tbody tr th {\n",
       "        vertical-align: top;\n",
       "    }\n",
       "\n",
       "    .dataframe thead th {\n",
       "        text-align: right;\n",
       "    }\n",
       "</style>\n",
       "<table border=\"1\" class=\"dataframe\">\n",
       "  <thead>\n",
       "    <tr style=\"text-align: right;\">\n",
       "      <th></th>\n",
       "      <th>#</th>\n",
       "      <th>Product Description</th>\n",
       "      <th>Customer Name</th>\n",
       "      <th>Column1</th>\n",
       "      <th>Year</th>\n",
       "      <th>Prd.</th>\n",
       "      <th>Quantity</th>\n",
       "      <th>Revenue</th>\n",
       "      <th>Count</th>\n",
       "      <th>Column2</th>\n",
       "      <th>Count3</th>\n",
       "      <th>Costs</th>\n",
       "      <th>Margin</th>\n",
       "      <th>Column4</th>\n",
       "    </tr>\n",
       "  </thead>\n",
       "  <tbody>\n",
       "    <tr>\n",
       "      <th>0</th>\n",
       "      <td>1</td>\n",
       "      <td>Lobster - Baby, Boiled</td>\n",
       "      <td>Stanton, Predovic and Larson</td>\n",
       "      <td>NaN</td>\n",
       "      <td>2019.0</td>\n",
       "      <td>2.0</td>\n",
       "      <td>1.0</td>\n",
       "      <td>16.00</td>\n",
       "      <td>1.0</td>\n",
       "      <td>0.0</td>\n",
       "      <td>12.00</td>\n",
       "      <td>4.00</td>\n",
       "      <td>NaN</td>\n",
       "      <td>25.0</td>\n",
       "    </tr>\n",
       "    <tr>\n",
       "      <th>1</th>\n",
       "      <td>2</td>\n",
       "      <td>Tea - Herbal Orange Spice</td>\n",
       "      <td>Stanton, Predovic and Larson</td>\n",
       "      <td>NaN</td>\n",
       "      <td>NaN</td>\n",
       "      <td>NaN</td>\n",
       "      <td>0.0</td>\n",
       "      <td>NaN</td>\n",
       "      <td>0.0</td>\n",
       "      <td>NaN</td>\n",
       "      <td>0.00</td>\n",
       "      <td>NaN</td>\n",
       "      <td>NaN</td>\n",
       "      <td>NaN</td>\n",
       "    </tr>\n",
       "    <tr>\n",
       "      <th>2</th>\n",
       "      <td>3</td>\n",
       "      <td>Cookies - Assorted</td>\n",
       "      <td>Stanton, Predovic and Larson</td>\n",
       "      <td>NaN</td>\n",
       "      <td>NaN</td>\n",
       "      <td>NaN</td>\n",
       "      <td>0.0</td>\n",
       "      <td>NaN</td>\n",
       "      <td>0.0</td>\n",
       "      <td>NaN</td>\n",
       "      <td>0.00</td>\n",
       "      <td>NaN</td>\n",
       "      <td>NaN</td>\n",
       "      <td>NaN</td>\n",
       "    </tr>\n",
       "    <tr>\n",
       "      <th>3</th>\n",
       "      <td>4</td>\n",
       "      <td>Cookies - Assorted</td>\n",
       "      <td>Stanton, Predovic and Larson</td>\n",
       "      <td>NaN</td>\n",
       "      <td>2019.0</td>\n",
       "      <td>5.0</td>\n",
       "      <td>0.6</td>\n",
       "      <td>0.00</td>\n",
       "      <td>1.0</td>\n",
       "      <td>0.0</td>\n",
       "      <td>7.29</td>\n",
       "      <td>-7.29</td>\n",
       "      <td>NaN</td>\n",
       "      <td>0.0</td>\n",
       "    </tr>\n",
       "    <tr>\n",
       "      <th>4</th>\n",
       "      <td>5</td>\n",
       "      <td>Juice - V8 Splash</td>\n",
       "      <td>Stanton, Predovic and Larson</td>\n",
       "      <td>NaN</td>\n",
       "      <td>NaN</td>\n",
       "      <td>NaN</td>\n",
       "      <td>0.0</td>\n",
       "      <td>NaN</td>\n",
       "      <td>0.0</td>\n",
       "      <td>NaN</td>\n",
       "      <td>0.00</td>\n",
       "      <td>NaN</td>\n",
       "      <td>NaN</td>\n",
       "      <td>NaN</td>\n",
       "    </tr>\n",
       "    <tr>\n",
       "      <th>...</th>\n",
       "      <td>...</td>\n",
       "      <td>...</td>\n",
       "      <td>...</td>\n",
       "      <td>...</td>\n",
       "      <td>...</td>\n",
       "      <td>...</td>\n",
       "      <td>...</td>\n",
       "      <td>...</td>\n",
       "      <td>...</td>\n",
       "      <td>...</td>\n",
       "      <td>...</td>\n",
       "      <td>...</td>\n",
       "      <td>...</td>\n",
       "      <td>...</td>\n",
       "    </tr>\n",
       "    <tr>\n",
       "      <th>7075</th>\n",
       "      <td>7558</td>\n",
       "      <td>White (Bianco)Truffle Oil 250 ml</td>\n",
       "      <td>Pouros, Ziemann and Braun</td>\n",
       "      <td>NaN</td>\n",
       "      <td>NaN</td>\n",
       "      <td>NaN</td>\n",
       "      <td>0.0</td>\n",
       "      <td>NaN</td>\n",
       "      <td>0.0</td>\n",
       "      <td>NaN</td>\n",
       "      <td>0.00</td>\n",
       "      <td>NaN</td>\n",
       "      <td>NaN</td>\n",
       "      <td>NaN</td>\n",
       "    </tr>\n",
       "    <tr>\n",
       "      <th>7076</th>\n",
       "      <td>7559</td>\n",
       "      <td>NaN</td>\n",
       "      <td>NaN</td>\n",
       "      <td>Customer Total:</td>\n",
       "      <td>NaN</td>\n",
       "      <td>NaN</td>\n",
       "      <td>0.0</td>\n",
       "      <td>427.50</td>\n",
       "      <td>0.0</td>\n",
       "      <td>NaN</td>\n",
       "      <td>268.35</td>\n",
       "      <td>NaN</td>\n",
       "      <td>NaN</td>\n",
       "      <td>NaN</td>\n",
       "    </tr>\n",
       "    <tr>\n",
       "      <th>7077</th>\n",
       "      <td>7560</td>\n",
       "      <td>Canada Dry</td>\n",
       "      <td>Jacobson, Raynor and Marvin</td>\n",
       "      <td>NaN</td>\n",
       "      <td>NaN</td>\n",
       "      <td>NaN</td>\n",
       "      <td>0.0</td>\n",
       "      <td>NaN</td>\n",
       "      <td>0.0</td>\n",
       "      <td>NaN</td>\n",
       "      <td>0.00</td>\n",
       "      <td>NaN</td>\n",
       "      <td>NaN</td>\n",
       "      <td>NaN</td>\n",
       "    </tr>\n",
       "    <tr>\n",
       "      <th>7078</th>\n",
       "      <td>7561</td>\n",
       "      <td>Canada Dry</td>\n",
       "      <td>Jacobson, Raynor and Marvin</td>\n",
       "      <td>NaN</td>\n",
       "      <td>NaN</td>\n",
       "      <td>NaN</td>\n",
       "      <td>0.0</td>\n",
       "      <td>NaN</td>\n",
       "      <td>0.0</td>\n",
       "      <td>NaN</td>\n",
       "      <td>0.00</td>\n",
       "      <td>NaN</td>\n",
       "      <td>NaN</td>\n",
       "      <td>NaN</td>\n",
       "    </tr>\n",
       "    <tr>\n",
       "      <th>7079</th>\n",
       "      <td>7562</td>\n",
       "      <td>NaN</td>\n",
       "      <td>NaN</td>\n",
       "      <td>Total Sales:</td>\n",
       "      <td>NaN</td>\n",
       "      <td>NaN</td>\n",
       "      <td>0.0</td>\n",
       "      <td>2678619.38</td>\n",
       "      <td>0.0</td>\n",
       "      <td>NaN</td>\n",
       "      <td>1200886.66</td>\n",
       "      <td>NaN</td>\n",
       "      <td>NaN</td>\n",
       "      <td>NaN</td>\n",
       "    </tr>\n",
       "  </tbody>\n",
       "</table>\n",
       "<p>7080 rows × 14 columns</p>\n",
       "</div>"
      ],
      "text/plain": [
       "         #               Product Description                 Customer Name  \\\n",
       "0        1            Lobster - Baby, Boiled  Stanton, Predovic and Larson   \n",
       "1        2         Tea - Herbal Orange Spice  Stanton, Predovic and Larson   \n",
       "2        3                Cookies - Assorted  Stanton, Predovic and Larson   \n",
       "3        4                Cookies - Assorted  Stanton, Predovic and Larson   \n",
       "4        5                 Juice - V8 Splash  Stanton, Predovic and Larson   \n",
       "...    ...                               ...                           ...   \n",
       "7075  7558  White (Bianco)Truffle Oil 250 ml     Pouros, Ziemann and Braun   \n",
       "7076  7559                               NaN                           NaN   \n",
       "7077  7560                        Canada Dry   Jacobson, Raynor and Marvin   \n",
       "7078  7561                        Canada Dry   Jacobson, Raynor and Marvin   \n",
       "7079  7562                               NaN                           NaN   \n",
       "\n",
       "              Column1    Year  Prd.  Quantity     Revenue  Count  Column2  \\\n",
       "0                 NaN  2019.0   2.0       1.0       16.00    1.0      0.0   \n",
       "1                 NaN     NaN   NaN       0.0         NaN    0.0      NaN   \n",
       "2                 NaN     NaN   NaN       0.0         NaN    0.0      NaN   \n",
       "3                 NaN  2019.0   5.0       0.6        0.00    1.0      0.0   \n",
       "4                 NaN     NaN   NaN       0.0         NaN    0.0      NaN   \n",
       "...               ...     ...   ...       ...         ...    ...      ...   \n",
       "7075              NaN     NaN   NaN       0.0         NaN    0.0      NaN   \n",
       "7076  Customer Total:     NaN   NaN       0.0      427.50    0.0      NaN   \n",
       "7077              NaN     NaN   NaN       0.0         NaN    0.0      NaN   \n",
       "7078              NaN     NaN   NaN       0.0         NaN    0.0      NaN   \n",
       "7079     Total Sales:     NaN   NaN       0.0  2678619.38    0.0      NaN   \n",
       "\n",
       "          Count3  Costs  Margin  Column4  \n",
       "0          12.00   4.00     NaN     25.0  \n",
       "1           0.00    NaN     NaN      NaN  \n",
       "2           0.00    NaN     NaN      NaN  \n",
       "3           7.29  -7.29     NaN      0.0  \n",
       "4           0.00    NaN     NaN      NaN  \n",
       "...          ...    ...     ...      ...  \n",
       "7075        0.00    NaN     NaN      NaN  \n",
       "7076      268.35    NaN     NaN      NaN  \n",
       "7077        0.00    NaN     NaN      NaN  \n",
       "7078        0.00    NaN     NaN      NaN  \n",
       "7079  1200886.66    NaN     NaN      NaN  \n",
       "\n",
       "[7080 rows x 14 columns]"
      ]
     },
     "execution_count": 2,
     "metadata": {},
     "output_type": "execute_result"
    }
   ],
   "source": [
    "columnas_null = ['Quantity','Count','Count3']\n",
    "df[columnas_null] = df[columnas_null].fillna(0)\n",
    "df"
   ]
  },
  {
   "cell_type": "markdown",
   "metadata": {},
   "source": [
    "> 🧹 Reemplazamos valores nulos (`NaN`) con ceros en las columnas más relevantes.\n",
    "> Esto es común cuando analizamos datos que pueden tener vacíos.\n"
   ]
  },
  {
   "cell_type": "markdown",
   "metadata": {},
   "source": [
    "### 📊 4. Estadísticas básicas de todo el DataFrame"
   ]
  },
  {
   "cell_type": "code",
   "execution_count": 3,
   "metadata": {},
   "outputs": [
    {
     "data": {
      "text/html": [
       "<div>\n",
       "<style scoped>\n",
       "    .dataframe tbody tr th:only-of-type {\n",
       "        vertical-align: middle;\n",
       "    }\n",
       "\n",
       "    .dataframe tbody tr th {\n",
       "        vertical-align: top;\n",
       "    }\n",
       "\n",
       "    .dataframe thead th {\n",
       "        text-align: right;\n",
       "    }\n",
       "</style>\n",
       "<table border=\"1\" class=\"dataframe\">\n",
       "  <thead>\n",
       "    <tr style=\"text-align: right;\">\n",
       "      <th></th>\n",
       "      <th>#</th>\n",
       "      <th>Year</th>\n",
       "      <th>Prd.</th>\n",
       "      <th>Quantity</th>\n",
       "      <th>Revenue</th>\n",
       "      <th>Count</th>\n",
       "      <th>Column2</th>\n",
       "      <th>Count3</th>\n",
       "      <th>Costs</th>\n",
       "      <th>Margin</th>\n",
       "      <th>Column4</th>\n",
       "    </tr>\n",
       "  </thead>\n",
       "  <tbody>\n",
       "    <tr>\n",
       "      <th>count</th>\n",
       "      <td>7080.000000</td>\n",
       "      <td>3091.0</td>\n",
       "      <td>3091.000000</td>\n",
       "      <td>7080.000000</td>\n",
       "      <td>3.186000e+03</td>\n",
       "      <td>7080.000000</td>\n",
       "      <td>3091.000000</td>\n",
       "      <td>7.080000e+03</td>\n",
       "      <td>3091.000000</td>\n",
       "      <td>0.0</td>\n",
       "      <td>3091.000000</td>\n",
       "    </tr>\n",
       "    <tr>\n",
       "      <th>mean</th>\n",
       "      <td>3936.584181</td>\n",
       "      <td>2019.0</td>\n",
       "      <td>3.383048</td>\n",
       "      <td>13.453149</td>\n",
       "      <td>1.961450e+03</td>\n",
       "      <td>1.785734</td>\n",
       "      <td>0.067939</td>\n",
       "      <td>3.970053e+02</td>\n",
       "      <td>309.043394</td>\n",
       "      <td>NaN</td>\n",
       "      <td>48.000904</td>\n",
       "    </tr>\n",
       "    <tr>\n",
       "      <th>std</th>\n",
       "      <td>2170.657401</td>\n",
       "      <td>0.0</td>\n",
       "      <td>1.694697</td>\n",
       "      <td>71.645064</td>\n",
       "      <td>4.840162e+04</td>\n",
       "      <td>3.116288</td>\n",
       "      <td>0.298720</td>\n",
       "      <td>1.450657e+04</td>\n",
       "      <td>1557.484454</td>\n",
       "      <td>NaN</td>\n",
       "      <td>29.444515</td>\n",
       "    </tr>\n",
       "    <tr>\n",
       "      <th>min</th>\n",
       "      <td>1.000000</td>\n",
       "      <td>2019.0</td>\n",
       "      <td>1.000000</td>\n",
       "      <td>-132.000000</td>\n",
       "      <td>-2.375000e+01</td>\n",
       "      <td>0.000000</td>\n",
       "      <td>0.000000</td>\n",
       "      <td>-7.184130e+03</td>\n",
       "      <td>-1723.200000</td>\n",
       "      <td>NaN</td>\n",
       "      <td>-622.093863</td>\n",
       "    </tr>\n",
       "    <tr>\n",
       "      <th>25%</th>\n",
       "      <td>2252.750000</td>\n",
       "      <td>2019.0</td>\n",
       "      <td>2.000000</td>\n",
       "      <td>0.000000</td>\n",
       "      <td>4.500000e+01</td>\n",
       "      <td>0.000000</td>\n",
       "      <td>0.000000</td>\n",
       "      <td>0.000000e+00</td>\n",
       "      <td>20.770000</td>\n",
       "      <td>NaN</td>\n",
       "      <td>35.254481</td>\n",
       "    </tr>\n",
       "    <tr>\n",
       "      <th>50%</th>\n",
       "      <td>4022.500000</td>\n",
       "      <td>2019.0</td>\n",
       "      <td>3.000000</td>\n",
       "      <td>0.000000</td>\n",
       "      <td>1.115100e+02</td>\n",
       "      <td>0.000000</td>\n",
       "      <td>0.000000</td>\n",
       "      <td>0.000000e+00</td>\n",
       "      <td>48.940000</td>\n",
       "      <td>NaN</td>\n",
       "      <td>53.856540</td>\n",
       "    </tr>\n",
       "    <tr>\n",
       "      <th>75%</th>\n",
       "      <td>5792.250000</td>\n",
       "      <td>2019.0</td>\n",
       "      <td>5.000000</td>\n",
       "      <td>4.000000</td>\n",
       "      <td>3.613125e+02</td>\n",
       "      <td>2.000000</td>\n",
       "      <td>0.000000</td>\n",
       "      <td>4.210000e+01</td>\n",
       "      <td>156.935000</td>\n",
       "      <td>NaN</td>\n",
       "      <td>63.672131</td>\n",
       "    </tr>\n",
       "    <tr>\n",
       "      <th>max</th>\n",
       "      <td>7562.000000</td>\n",
       "      <td>2019.0</td>\n",
       "      <td>6.000000</td>\n",
       "      <td>2019.000000</td>\n",
       "      <td>2.678619e+06</td>\n",
       "      <td>24.000000</td>\n",
       "      <td>3.000000</td>\n",
       "      <td>1.200887e+06</td>\n",
       "      <td>35997.750000</td>\n",
       "      <td>NaN</td>\n",
       "      <td>372.972973</td>\n",
       "    </tr>\n",
       "  </tbody>\n",
       "</table>\n",
       "</div>"
      ],
      "text/plain": [
       "                 #    Year         Prd.     Quantity       Revenue  \\\n",
       "count  7080.000000  3091.0  3091.000000  7080.000000  3.186000e+03   \n",
       "mean   3936.584181  2019.0     3.383048    13.453149  1.961450e+03   \n",
       "std    2170.657401     0.0     1.694697    71.645064  4.840162e+04   \n",
       "min       1.000000  2019.0     1.000000  -132.000000 -2.375000e+01   \n",
       "25%    2252.750000  2019.0     2.000000     0.000000  4.500000e+01   \n",
       "50%    4022.500000  2019.0     3.000000     0.000000  1.115100e+02   \n",
       "75%    5792.250000  2019.0     5.000000     4.000000  3.613125e+02   \n",
       "max    7562.000000  2019.0     6.000000  2019.000000  2.678619e+06   \n",
       "\n",
       "             Count      Column2        Count3         Costs  Margin  \\\n",
       "count  7080.000000  3091.000000  7.080000e+03   3091.000000     0.0   \n",
       "mean      1.785734     0.067939  3.970053e+02    309.043394     NaN   \n",
       "std       3.116288     0.298720  1.450657e+04   1557.484454     NaN   \n",
       "min       0.000000     0.000000 -7.184130e+03  -1723.200000     NaN   \n",
       "25%       0.000000     0.000000  0.000000e+00     20.770000     NaN   \n",
       "50%       0.000000     0.000000  0.000000e+00     48.940000     NaN   \n",
       "75%       2.000000     0.000000  4.210000e+01    156.935000     NaN   \n",
       "max      24.000000     3.000000  1.200887e+06  35997.750000     NaN   \n",
       "\n",
       "           Column4  \n",
       "count  3091.000000  \n",
       "mean     48.000904  \n",
       "std      29.444515  \n",
       "min    -622.093863  \n",
       "25%      35.254481  \n",
       "50%      53.856540  \n",
       "75%      63.672131  \n",
       "max     372.972973  "
      ]
     },
     "execution_count": 3,
     "metadata": {},
     "output_type": "execute_result"
    }
   ],
   "source": [
    "df.describe()"
   ]
  },
  {
   "cell_type": "markdown",
   "metadata": {},
   "source": [
    "> 🔎 Obtenemos un resumen estadístico general de todas las columnas numéricas.\n",
    "> Incluye: media, desviación estándar, mínimos, máximos, y percentiles.\n"
   ]
  },
  {
   "cell_type": "markdown",
   "metadata": {},
   "source": [
    "### 🧪 5. Revisando tipos de datos"
   ]
  },
  {
   "cell_type": "code",
   "execution_count": 4,
   "metadata": {},
   "outputs": [
    {
     "data": {
      "text/plain": [
       "#                        int64\n",
       "Product Description     object\n",
       "Customer Name           object\n",
       "Column1                 object\n",
       "Year                   float64\n",
       "Prd.                   float64\n",
       "Quantity               float64\n",
       "Revenue                float64\n",
       "Count                  float64\n",
       "Column2                float64\n",
       "Count3                 float64\n",
       "Costs                  float64\n",
       "Margin                 float64\n",
       "Column4                float64\n",
       "dtype: object"
      ]
     },
     "execution_count": 4,
     "metadata": {},
     "output_type": "execute_result"
    }
   ],
   "source": [
    "df.dtypes"
   ]
  },
  {
   "cell_type": "markdown",
   "metadata": {},
   "source": [
    "> 🔍 Aquí revisamos qué tipo de dato tiene cada columna.\n",
    "> Es útil para asegurarnos de que los análisis matemáticos se puedan aplicar correctamente.\n"
   ]
  },
  {
   "cell_type": "markdown",
   "metadata": {},
   "source": [
    "### 🛠️ 6. Asegurando que `Quantity` sea un número entero"
   ]
  },
  {
   "cell_type": "code",
   "execution_count": 5,
   "metadata": {},
   "outputs": [],
   "source": [
    "df['Quantity'] = df['Quantity'].astype(int)"
   ]
  },
  {
   "cell_type": "markdown",
   "metadata": {},
   "source": [
    "> 🔧 Convertimos la columna `Quantity` a tipo entero (`int`) para que tenga el formato correcto para análisis.\n"
   ]
  },
  {
   "cell_type": "markdown",
   "metadata": {},
   "source": [
    "### 📈 7. Medidas estadísticas para la columna `Quantity`"
   ]
  },
  {
   "cell_type": "code",
   "execution_count": 6,
   "metadata": {},
   "outputs": [],
   "source": [
    "#Columna Quantity\n",
    "media = df['Quantity'].mean()\n",
    "mediana = df['Quantity'].median()\n",
    "moda = df['Quantity'].mode()[0]\n",
    "\n",
    "#Medidas de disperción:\n",
    "desviacion = df['Quantity'].std()\n",
    "varianza = df['Quantity'].var()\n",
    "minimo = df['Quantity'].min()\n",
    "maximo = df['Quantity'].max()\n",
    "rango = maximo-minimo\n",
    "\n",
    "#Percentiles \n",
    "q1 = df['Quantity'].quantile(0.25) #Identifica el punto donde estan de ahí para abajo los valores más bajos\n",
    "q3 = df['Quantity'].quantile(0.75) #Identifica el punto donde estan de ahí para arriba los valores más altos\n"
   ]
  },
  {
   "cell_type": "markdown",
   "metadata": {},
   "source": [
    "> 📊 Calculamos:\n",
    ">\n",
    "> * **Tendencia central**: media, mediana y moda\n",
    "> * **Dispersión**: desviación estándar, varianza, mínimo, máximo, rango\n",
    "> * **Percentiles**: Q1 (25%) y Q3 (75%) para entender la distribución\n"
   ]
  },
  {
   "cell_type": "markdown",
   "metadata": {},
   "source": [
    "### 🖨️ 8. Mostramos los resultados de los cálculos"
   ]
  },
  {
   "cell_type": "code",
   "execution_count": 7,
   "metadata": {},
   "outputs": [
    {
     "name": "stdout",
     "output_type": "stream",
     "text": [
      "Media para Quantity: 13.45\n",
      "Mediana para Quantity: 0.00\n",
      "moda para Quantity: 0.00\n",
      "Desviación para Quantity 71.64\n",
      "varianza para Quantity 5132.98\n",
      "minimo para Quantity -132.00\n",
      "maximo para Quantity 2019.00\n",
      "rango para Quantity 2151.00\n",
      "cuartil 1 0.00\n",
      "cuartil 3 4.00\n"
     ]
    }
   ],
   "source": [
    "print(f'Media para Quantity: {media:.2f}')\n",
    "print(f'Mediana para Quantity: {mediana:.2f}')\n",
    "print(f'moda para Quantity: {moda:.2f}')\n",
    "print(f'Desviación para Quantity {desviacion:.2f}')\n",
    "print(f'varianza para Quantity {varianza:.2f}')\n",
    "print(f'minimo para Quantity {minimo:.2f}')\n",
    "print(f'maximo para Quantity {maximo:.2f}')\n",
    "print(f'rango para Quantity {rango:.2f}')\n",
    "print(f'cuartil 1 {q1:.2f}')\n",
    "print(f'cuartil 3 {q3:.2f}')\n"
   ]
  },
  {
   "cell_type": "markdown",
   "metadata": {},
   "source": [
    "> 📢 Imprimimos todos los resultados anteriores con formato redondeado a dos decimales.\n"
   ]
  },
  {
   "cell_type": "markdown",
   "metadata": {},
   "source": [
    "### 🧠 9. Función para analizar cualquier columna del DataFrame"
   ]
  },
  {
   "cell_type": "code",
   "execution_count": 8,
   "metadata": {},
   "outputs": [],
   "source": [
    "def analizar_columna(df, columna):\n",
    "    #Función para analizar las estadisitcas basicas de cualquier columna\n",
    "    \n",
    "    if not columna in df.columns:\n",
    "        return \"Columna no encontrada\"\n",
    "\n",
    "    resultados = {}\n",
    "\n",
    "    resultados['media'] = df[columna].mean()\n",
    "    resultados['mediana'] = df[columna].median()\n",
    "    resultados['moda'] = df[columna].mode()\n",
    "    resultados['desviacion'] = df[columna].std()\n",
    "\n",
    "    #Asimetrica y Curtosis\n",
    "    resultados['asimetria'] = df[columna].skew() #Muestra que tan dispersos estan los datos, asimetrica positiva, mas a la derecha o derecha mas larga, asimetrica negativa mas a la izquierda o izquierda mas larga\n",
    "    resultados['curtosis'] = df[columna].kurtosis() #Muestra que tan larga es una cola o si tiene mucho o poco valores extremos\n",
    "\n",
    "    sns.histplot(df[columna], kde = True, bins = 30)\n",
    "    plt.axvline(resultados['mediana'])\n",
    "    plt.show()\n",
    "\n",
    "    return resultados"
   ]
  },
  {
   "cell_type": "markdown",
   "metadata": {},
   "source": [
    "> 🧰 Esta función analiza cualquier columna numérica y te da:\n",
    ">\n",
    "> * Estadísticas descriptivas\n",
    "> * Asimetría y curtosis\n",
    "> * Una gráfica de distribución con línea de la mediana\n",
    ">   Ideal para reutilizar con diferentes columnas."
   ]
  },
  {
   "cell_type": "markdown",
   "metadata": {},
   "source": [
    "### 📉 10. Aplicamos la función a `Quantity` y graficamos"
   ]
  },
  {
   "cell_type": "code",
   "execution_count": 10,
   "metadata": {},
   "outputs": [
    {
     "data": {
      "image/png": "[encoded data removed]",
      "text/plain": [
       "<Figure size 640x480 with 1 Axes>"
      ]
     },
     "metadata": {},
     "output_type": "display_data"
    },
    {
     "data": {
      "text/plain": [
       "{'media': 13.452118644067797,\n",
       " 'mediana': 0.0,\n",
       " 'moda': 0    0\n",
       " Name: Quantity, dtype: int32,\n",
       " 'desviacion': 71.64482660523183,\n",
       " 'asimetria': 16.189322983051614,\n",
       " 'curtosis': 369.8002006734223}"
      ]
     },
     "execution_count": 10,
     "metadata": {},
     "output_type": "execute_result"
    }
   ],
   "source": [
    "#Grafica\n",
    "analizar_columna(df=df, columna='Quantity')"
   ]
  },
  {
   "cell_type": "markdown",
   "metadata": {},
   "source": [
    "> 🎯 Aquí usamos la función `analizar_columna` con la columna `Quantity`.\n",
    "> Nos da una visualización intuitiva y estadísticas importantes para entender mejor los datos."
   ]
  },
  {
   "cell_type": "markdown",
   "metadata": {},
   "source": [
    "### 🧠 Curtosis (Kurtosis)\n",
    "\n",
    "> La **curtosis** mide la propensión de una distribución a tener valores atípicos (outliers), comparándola con la distribución normal.\n",
    ">\n",
    "> * 🏔️ **Curtosis > 0**: *Colas pesadas*, mayor probabilidad de valores extremos\n",
    "> * ⛰️ **Curtosis < 0**: *Colas ligeras*, datos concentrados cerca de la media\n",
    "> * 📊 **Curtosis = 0**: comportamiento similar al de una distribución normal\n"
   ]
  },
  {
   "cell_type": "markdown",
   "metadata": {},
   "source": [
    "### 📦 Módulos requeridos"
   ]
  },
  {
   "cell_type": "code",
   "execution_count": 11,
   "metadata": {},
   "outputs": [],
   "source": [
    "#Modulos a utilizar\n",
    "\n",
    "import numpy as np\n",
    "from scipy.stats import kurtosis\n",
    "import matplotlib.pyplot as plt\n"
   ]
  },
  {
   "cell_type": "markdown",
   "metadata": {},
   "source": [
    "> Importamos módulos esenciales para:\n",
    ">\n",
    "> * Generar datos sintéticos\n",
    "> * Calcular curtosis\n",
    "> * Visualizar los datos"
   ]
  },
  {
   "cell_type": "markdown",
   "metadata": {},
   "source": [
    "### 🧪 Datos sintéticos para comparar diferentes niveles de curtosis"
   ]
  },
  {
   "cell_type": "code",
   "execution_count": 16,
   "metadata": {},
   "outputs": [
    {
     "data": {
      "image/png": "[encoded data removed]",
      "text/plain": [
       "<Figure size 1500x3000 with 12 Axes>"
      ]
     },
     "metadata": {},
     "output_type": "display_data"
    }
   ],
   "source": [
    "#Crear figuras\n",
    "figura, subfiguras= plt.subplots(6,2)\n",
    "figura.set_size_inches(15,30)\n",
    "\n",
    "np.random.seed(seed=5)\n",
    "tamano = 1000\n",
    "\n",
    "#Crar conjutno de datos con diferente curtosis negativa\n",
    "for subfigura, corte in enumerate(np.arange(3,0,-0.5)):\n",
    "    #generar datos sintéticos a partir de una distribución normal\n",
    "    datos = np.random.normal(loc=0, scale = 1, size =tamano)\n",
    "    datos = datos[(-corte < datos) & (datos < corte)]\n",
    "    \n",
    "    datos = np.random.choice(datos, size = tamano)\n",
    "    datos = ((datos - datos.min())/datos.max())*20\n",
    "    \n",
    "    #contando los valores atipicos en funcion de la regla de tukey\n",
    "    IQR = np.quantile(datos, 0.75) - np.quantile(datos, 0.25)\n",
    "    minimo = np.quantile(datos, 0.25) - 1.5*IQR\n",
    "    maximo = np.quantile(datos,0.75) + 1.5*IQR\n",
    "    num_atipicos = datos[datos > maximo].size + datos[datos<minimo].size\n",
    "\n",
    "    #graficar historgrama\n",
    "    subfiguras[subfigura, 0].hist(datos, bins = 100)\n",
    "    subfiguras[subfigura, 0].set_title(\"Curtosis = %0.2f\" % kurtosis(datos))\n",
    "    \n",
    "    subfiguras[subfigura,1].boxplot(datos,\n",
    "                                    boxprops = dict(linewidth=2),\n",
    "                                    medianprops = dict(linewidth=2, color=\"firebrick\"),\n",
    "                                    whiskerprops = dict(linewidth=2),\n",
    "                                    capprops=dict(linewidth=2)\n",
    "                                    )\n",
    "    subfiguras[subfigura,1].set_title(\"%d valores atipicos\" % num_atipicos)"
   ]
  },
  {
   "cell_type": "markdown",
   "metadata": {},
   "source": [
    "> 🔧 Generamos y visualizamos distribuciones con diferente **nivel de curtosis negativa**, mostrando histogramas y boxplots para entender visualmente el impacto en los outliers.\n"
   ]
  },
  {
   "cell_type": "markdown",
   "metadata": {},
   "source": [
    "### 📥 Cargar datos reales de salario estimado"
   ]
  },
  {
   "cell_type": "code",
   "execution_count": 18,
   "metadata": {},
   "outputs": [
    {
     "data": {
      "text/html": [
       "<div>\n",
       "<style scoped>\n",
       "    .dataframe tbody tr th:only-of-type {\n",
       "        vertical-align: middle;\n",
       "    }\n",
       "\n",
       "    .dataframe tbody tr th {\n",
       "        vertical-align: top;\n",
       "    }\n",
       "\n",
       "    .dataframe thead th {\n",
       "        text-align: right;\n",
       "    }\n",
       "</style>\n",
       "<table border=\"1\" class=\"dataframe\">\n",
       "  <thead>\n",
       "    <tr style=\"text-align: right;\">\n",
       "      <th></th>\n",
       "      <th>RowNumber</th>\n",
       "      <th>CustomerId</th>\n",
       "      <th>Surname</th>\n",
       "      <th>CreditScore</th>\n",
       "      <th>Geography</th>\n",
       "      <th>Gender</th>\n",
       "      <th>Age</th>\n",
       "      <th>Tenure</th>\n",
       "      <th>Balance</th>\n",
       "      <th>NumOfProducts</th>\n",
       "      <th>HasCrCard</th>\n",
       "      <th>IsActiveMember</th>\n",
       "      <th>EstimatedSalary</th>\n",
       "      <th>Exited</th>\n",
       "      <th>Complain</th>\n",
       "      <th>Satisfaction Score</th>\n",
       "      <th>Card Type</th>\n",
       "      <th>Point Earned</th>\n",
       "    </tr>\n",
       "  </thead>\n",
       "  <tbody>\n",
       "    <tr>\n",
       "      <th>0</th>\n",
       "      <td>1</td>\n",
       "      <td>15598695</td>\n",
       "      <td>Fields</td>\n",
       "      <td>619</td>\n",
       "      <td>France</td>\n",
       "      <td>Female</td>\n",
       "      <td>42</td>\n",
       "      <td>2</td>\n",
       "      <td>0.00</td>\n",
       "      <td>1</td>\n",
       "      <td>1</td>\n",
       "      <td>1</td>\n",
       "      <td>101348.88</td>\n",
       "      <td>1</td>\n",
       "      <td>1</td>\n",
       "      <td>2</td>\n",
       "      <td>DIAMOND</td>\n",
       "      <td>464</td>\n",
       "    </tr>\n",
       "    <tr>\n",
       "      <th>1</th>\n",
       "      <td>2</td>\n",
       "      <td>15649354</td>\n",
       "      <td>Johnston</td>\n",
       "      <td>608</td>\n",
       "      <td>Spain</td>\n",
       "      <td>Female</td>\n",
       "      <td>41</td>\n",
       "      <td>1</td>\n",
       "      <td>83807.86</td>\n",
       "      <td>1</td>\n",
       "      <td>0</td>\n",
       "      <td>1</td>\n",
       "      <td>112542.58</td>\n",
       "      <td>0</td>\n",
       "      <td>1</td>\n",
       "      <td>3</td>\n",
       "      <td>DIAMOND</td>\n",
       "      <td>456</td>\n",
       "    </tr>\n",
       "    <tr>\n",
       "      <th>2</th>\n",
       "      <td>3</td>\n",
       "      <td>15737556</td>\n",
       "      <td>Vasilyev</td>\n",
       "      <td>502</td>\n",
       "      <td>France</td>\n",
       "      <td>Female</td>\n",
       "      <td>42</td>\n",
       "      <td>8</td>\n",
       "      <td>159660.80</td>\n",
       "      <td>3</td>\n",
       "      <td>1</td>\n",
       "      <td>0</td>\n",
       "      <td>113931.57</td>\n",
       "      <td>1</td>\n",
       "      <td>1</td>\n",
       "      <td>3</td>\n",
       "      <td>DIAMOND</td>\n",
       "      <td>377</td>\n",
       "    </tr>\n",
       "  </tbody>\n",
       "</table>\n",
       "</div>"
      ],
      "text/plain": [
       "   RowNumber  CustomerId   Surname  CreditScore Geography  Gender  Age  \\\n",
       "0          1    15598695    Fields          619    France  Female   42   \n",
       "1          2    15649354  Johnston          608     Spain  Female   41   \n",
       "2          3    15737556  Vasilyev          502    France  Female   42   \n",
       "\n",
       "   Tenure    Balance  NumOfProducts  HasCrCard  IsActiveMember  \\\n",
       "0       2       0.00              1          1               1   \n",
       "1       1   83807.86              1          0               1   \n",
       "2       8  159660.80              3          1               0   \n",
       "\n",
       "   EstimatedSalary  Exited  Complain  Satisfaction Score Card Type  \\\n",
       "0        101348.88       1         1                   2   DIAMOND   \n",
       "1        112542.58       0         1                   3   DIAMOND   \n",
       "2        113931.57       1         1                   3   DIAMOND   \n",
       "\n",
       "   Point Earned  \n",
       "0           464  \n",
       "1           456  \n",
       "2           377  "
      ]
     },
     "execution_count": 18,
     "metadata": {},
     "output_type": "execute_result"
    }
   ],
   "source": [
    "df = pd.read_csv(\"Dia2_Bank_insights.csv\")\n",
    "df.head(3)\n"
   ]
  },
  {
   "cell_type": "markdown",
   "metadata": {},
   "source": [
    "> 📄 Cargamos el conjunto de datos `EstimatedSalary` y reemplazamos nulos con `0` para evitar errores en el análisis.\n"
   ]
  },
  {
   "cell_type": "code",
   "execution_count": 19,
   "metadata": {},
   "outputs": [
    {
     "data": {
      "text/plain": [
       "RowNumber               int64\n",
       "CustomerId              int64\n",
       "Surname                object\n",
       "CreditScore             int64\n",
       "Geography              object\n",
       "Gender                 object\n",
       "Age                     int64\n",
       "Tenure                  int64\n",
       "Balance               float64\n",
       "NumOfProducts           int64\n",
       "HasCrCard               int64\n",
       "IsActiveMember          int64\n",
       "EstimatedSalary       float64\n",
       "Exited                  int64\n",
       "Complain                int64\n",
       "Satisfaction Score      int64\n",
       "Card Type              object\n",
       "Point Earned            int64\n",
       "dtype: object"
      ]
     },
     "execution_count": 19,
     "metadata": {},
     "output_type": "execute_result"
    }
   ],
   "source": [
    "df.dtypes"
   ]
  },
  {
   "cell_type": "code",
   "execution_count": 20,
   "metadata": {},
   "outputs": [],
   "source": [
    "df[\"EstimatedSalary\"] = df[\"EstimatedSalary\"].fillna(0)"
   ]
  },
  {
   "cell_type": "markdown",
   "metadata": {},
   "source": [
    "### 📏 Métricas descriptivas para la columna `EstimatedSalary`"
   ]
  },
  {
   "cell_type": "code",
   "execution_count": 21,
   "metadata": {},
   "outputs": [
    {
     "name": "stdout",
     "output_type": "stream",
     "text": [
      "100090.239881\n",
      "100193.915\n",
      "0    24924.92\n",
      "Name: EstimatedSalary, dtype: float64\n",
      "11.58\n",
      "199992.48\n",
      "51002.11\n",
      "149388.2475\n"
     ]
    }
   ],
   "source": [
    "media=df[\"EstimatedSalary\"].mean()\n",
    "\n",
    "mediana=df[\"EstimatedSalary\"].median()\n",
    "moda=df[\"EstimatedSalary\"].mode()\n",
    "minimo=df[\"EstimatedSalary\"].min()\n",
    "\n",
    "maximo=df[\"EstimatedSalary\"].max()\n",
    "\n",
    "q1=np.quantile(df[\"EstimatedSalary\"],0.25)\n",
    "q3=np.quantile(df[\"EstimatedSalary\"],0.75)\n",
    "\n",
    "print(media)\n",
    "print(mediana)\n",
    "print(moda)\n",
    "print(minimo)\n",
    "print(maximo)\n",
    "print(q1)\n",
    "print(q3)"
   ]
  },
  {
   "cell_type": "markdown",
   "metadata": {},
   "source": [
    "> Calculamos:\n",
    ">\n",
    "> * Tendencia central: **media, mediana, moda**\n",
    "> * Rango: **mínimo, máximo**\n",
    "> * Distribución: **Q1 (percentil 25), Q3 (percentil 75)**"
   ]
  },
  {
   "cell_type": "markdown",
   "metadata": {},
   "source": [
    "### 📊 Visualización de la distribución"
   ]
  },
  {
   "cell_type": "code",
   "execution_count": 30,
   "metadata": {},
   "outputs": [
    {
     "data": {
      "image/png": "[encoded data removed]",
      "text/plain": [
       "<Figure size 640x480 with 1 Axes>"
      ]
     },
     "metadata": {},
     "output_type": "display_data"
    }
   ],
   "source": [
    "sns.histplot(df[\"EstimatedSalary\"], kde = True, bins = 30)\n",
    "plt.axvline(mediana)\n",
    "plt.show()\n"
   ]
  },
  {
   "cell_type": "markdown",
   "metadata": {},
   "source": [
    "> 📈 Mostramos la distribución de los salarios con su **curva de densidad** y una línea indicando la mediana.\n"
   ]
  },
  {
   "cell_type": "markdown",
   "metadata": {},
   "source": [
    "### 📌 Cálculo de la curtosis de `EstimatedSalary`"
   ]
  },
  {
   "cell_type": "code",
   "execution_count": 32,
   "metadata": {},
   "outputs": [
    {
     "name": "stdout",
     "output_type": "stream",
     "text": [
      "-1.1815184473915485\n"
     ]
    }
   ],
   "source": [
    "curtosis = df[\"EstimatedSalary\"].kurtosis()\n",
    "print(curtosis)"
   ]
  },
  {
   "cell_type": "markdown",
   "metadata": {},
   "source": [
    "> 🧠 Obtenemos la **curtosis real** de la columna `EstimatedSalary` para evaluar si hay colas pesadas o ligeras.\n"
   ]
  },
  {
   "cell_type": "markdown",
   "metadata": {},
   "source": [
    "### 🧪 Test de normalidad con múltiples pruebas estadísticas"
   ]
  },
  {
   "cell_type": "code",
   "execution_count": 39,
   "metadata": {},
   "outputs": [
    {
     "name": "stdout",
     "output_type": "stream",
     "text": [
      "Shapiro-Wilk test: estadístico=0.9575, p-value=0.000000\n",
      "Tests de normalidad para EstimatedSalary:\n",
      "Shapiro-Wilk test: estadístico=0.9575, p-value=0.000000\n",
      "Kolmogorov-Smirnov test: estadístico=1.0000, p-value=0.000000\n",
      "D'Agostino's K^2 test: estadístico=7397.1498, p-value=0.000000\n",
      "❌ Al menos un test sugiere que la distribución NO es normal.\n"
     ]
    }
   ],
   "source": [
    "from scipy import stats\n",
    "\n",
    "def colum_normal(df, columna):\n",
    "    \n",
    "    muestra = df[columna].dropna()\n",
    "    if len(muestra) > 5000:\n",
    "        muestra = muestra.sample(5000, random_state = 42)\n",
    "    \n",
    "    shapiro_test = stats.shapiro(muestra)\n",
    "    ks_test = stats.kstest(df[columna].dropna(), 'norm')\n",
    "    k2_test = stats.normaltest(df[columna].dropna())\n",
    "\n",
    "    print(f\"Tests de normalidad para {columna}:\")\n",
    "    print(f\"Shapiro-Wilk test: estadístico={shapiro_test[0]:.4f}, p-value={shapiro_test[1]:.6f}\")\n",
    "    print(f\"Kolmogorov-Smirnov test: estadístico={ks_test[0]:.4f}, p-value={ks_test[1]:.6f}\")\n",
    "    print(f\"D'Agostino's K^2 test: estadístico={k2_test[0]:.4f}, p-value={k2_test[1]:.6f}\")\n",
    "    \n",
    "    alpha = 0.05\n",
    "    if shapiro_test[1] > alpha and ks_test[1] > alpha and k2_test[1] > alpha:\n",
    "        print(\"✅ Todos los tests sugieren que la distribución es normal.\")\n",
    "    else:\n",
    "        print(\"❌ Al menos un test sugiere que la distribución NO es normal.\")\n",
    "\n",
    "colum_normal(df, \"EstimatedSalary\")"
   ]
  },
  {
   "cell_type": "markdown",
   "metadata": {},
   "source": [
    "> 📊 Aplicamos **tres pruebas estadísticas**:\n",
    ">\n",
    "> * **Shapiro-Wilk** (precisa en muestras pequeñas)\n",
    "> * **Kolmogorov-Smirnov** (útil en muestras grandes)\n",
    "> * **D'Agostino's K²** (asimetría y curtosis combinadas)\n",
    ">\n",
    "> Esto nos da un panorama más robusto para decidir si la distribución es realmente normal."
   ]
  },
  {
   "cell_type": "markdown",
   "metadata": {},
   "source": [
    "### 👁️ Evaluación visual de normalidad"
   ]
  },
  {
   "cell_type": "code",
   "execution_count": 43,
   "metadata": {},
   "outputs": [
    {
     "data": {
      "image/png": "[encoded data removed]",
      "text/plain": [
       "<Figure size 1500x500 with 3 Axes>"
      ]
     },
     "metadata": {},
     "output_type": "display_data"
    }
   ],
   "source": [
    "def evaluar_normalidad_visual(df, columna):\n",
    "    \"\"\"Evalúa visualmente si una columna sigue una distribución normal.\"\"\"\n",
    "    plt.figure(figsize=(15, 5))\n",
    "    \n",
    "    # Histograma con curva de densidad\n",
    "    plt.subplot(1, 3, 1)\n",
    "    sns.histplot(df[columna], kde=True)\n",
    "    plt.title(f'Histograma de {columna}')\n",
    "    \n",
    "    # Q-Q plot: cuanto más se ajusten los puntos a la línea, más normal es\n",
    "    plt.subplot(1, 3, 2)\n",
    "    stats.probplot(df[columna].dropna(), plot=plt)\n",
    "    plt.title(f'Q-Q Plot de {columna}')\n",
    "    \n",
    "    # Boxplot para ver simetría y outliers\n",
    "    plt.subplot(1, 3, 3)\n",
    "    sns.boxplot(y=df[columna])\n",
    "    plt.title(f'Boxplot de {columna}')\n",
    "    \n",
    "    plt.tight_layout()\n",
    "    plt.show()\n",
    "    \n",
    "evaluar_normalidad_visual(df,\"EstimatedSalary\")"
   ]
  },
  {
   "cell_type": "markdown",
   "metadata": {},
   "source": [
    "> 🔍 Usamos tres tipos de gráficos:\n",
    ">\n",
    "> * **Histograma** para ver la forma general\n",
    "> * **Q-Q plot** para ver qué tan bien se ajustan los datos a una distribución normal\n",
    "> * **Boxplot** para identificar simetría y valores atípicos"
   ]
  },
  {
   "cell_type": "markdown",
   "metadata": {},
   "source": [
    "### 📐 Métricas de distribución: Asimetría y curtosis con interpretación"
   ]
  },
  {
   "cell_type": "code",
   "execution_count": 44,
   "metadata": {},
   "outputs": [
    {
     "name": "stdout",
     "output_type": "stream",
     "text": [
      "Asimetría (skewness) de EstimatedSalary: 0.0021\n",
      "Curtosis de EstimatedSalary: -1.1815\n",
      "✅ La asimetría está dentro del rango aceptable para normalidad (±0.5)\n",
      "❌ La curtosis está fuera del rango aceptable. Platicúrtica (más plana)\n"
     ]
    }
   ],
   "source": [
    "def metricas_distribucion(df, columna):\n",
    "    \"\"\"Calcula métricas de asimetría y curtosis para evaluar normalidad.\"\"\"\n",
    "    skewness = df[columna].skew()\n",
    "    kurtosis = df[columna].kurtosis()\n",
    "    \n",
    "    print(f\"Asimetría (skewness) de {columna}: {skewness:.4f}\")\n",
    "    print(f\"Curtosis de {columna}: {kurtosis:.4f}\")\n",
    "    \n",
    "    # Interpretación\n",
    "    if abs(skewness) < 0.5:\n",
    "        print(\"✅ La asimetría está dentro del rango aceptable para normalidad (±0.5)\")\n",
    "    else:\n",
    "        print(f\"❌ La asimetría está fuera del rango aceptable. {'Asimetría positiva (cola derecha)' if skewness > 0 else 'Asimetría negativa (cola izquierda)'}\")\n",
    "    \n",
    "    # La curtosis en pandas utiliza la definición \"Fisher's kurtosis\", donde normal = 0\n",
    "    # (A diferencia de la definición \"Pearson's kurtosis\" donde normal = 3)\n",
    "    if abs(kurtosis) < 0.5:\n",
    "        print(\"✅ La curtosis está dentro del rango aceptable para normalidad\")\n",
    "    else:\n",
    "        print(f\"❌ La curtosis está fuera del rango aceptable. {'Leptocúrtica (más puntiaguda)' if kurtosis > 0 else 'Platicúrtica (más plana)'}\")\n",
    "\n",
    "metricas_distribucion(df,\"EstimatedSalary\")"
   ]
  },
  {
   "cell_type": "markdown",
   "metadata": {},
   "source": [
    "> 📐 Esta función ayuda a interpretar:\n",
    ">\n",
    "> * Si los datos están **simétricamente distribuidos**\n",
    "> * Si hay **colas pesadas o ligeras**\n",
    ">   con explicaciones claras y mensajes directos."
   ]
  }
 ],
 "metadata": {
  "kernelspec": {
   "display_name": "Python 3",
   "language": "python",
   "name": "python3"
  },
  "language_info": {
   "codemirror_mode": {
    "name": "ipython",
    "version": 3
   },
   "file_extension": ".py",
   "mimetype": "text/x-python",
   "name": "python",
   "nbconvert_exporter": "python",
   "pygments_lexer": "ipython3",
   "version": "3.10.5"
  }
 },
 "nbformat": 4,
 "nbformat_minor": 2
}
